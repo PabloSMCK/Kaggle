{
 "cells": [
  {
   "cell_type": "code",
   "execution_count": 1,
   "metadata": {},
   "outputs": [],
   "source": [
    "import numpy as np\n",
    "import pandas as pd\n",
    "import matplotlib.pyplot as plt"
   ]
  },
  {
   "cell_type": "code",
   "execution_count": 2,
   "metadata": {},
   "outputs": [],
   "source": [
    "#IMPORTING THE DATASET\n",
    "df = pd.read_csv('train.csv')\n",
    "\n",
    "#SACAR COLUMNAS INNECESARIAS\n",
    "df = df.drop(['PassengerId', 'Ticket', 'Cabin'], axis = 1)\n",
    "\n",
    "#CHEKEAR VALOR MAS REPETIDO Y RELLENAR na\n",
    "df = df.fillna({\"Embarked\": \"S\"})\n",
    "\n",
    "#SACAR TITULOS DE LOS NOMBRES\n",
    "s = df['Name'].apply(lambda st: st[st.find(\", \")+1:st.find(\". \")]).rename('Title')\n",
    "\n",
    "#HACER JOIN DE COLUMNA TITULOS Y BORRAR COLUMNA NOMBRE\n",
    "df = pd.concat([df, s], axis = 1).drop(['Name'], axis = 1)\n",
    "\n",
    "#TRANSFORMAR Pclass A TEXTO Y CREAR COLUMNA TP(Title+Pclass) PARA APLICAR SPLIT+APPLY+COMBINE PARA RELLENAR \n",
    "#na EN Age\n",
    "df['Pclass'] = df['Pclass'].astype(str)\n",
    "df['TP'] = df['Title'] + df['Pclass']\n",
    "#AGRUPA POR TP Y SACA EL AVG DE Age\n",
    "grouped = df.groupby('TP').agg(avg = pd.NamedAgg(column = 'Age', aggfunc = 'mean')).reset_index()\n",
    "#JOIN DE AVGS POR TP\n",
    "df = df.merge(grouped, on = 'TP', how = 'left')\n",
    "#REEMPLAZAR Age VACIOS POR SU VALOR EN COLUMNA avg\n",
    "df['Age'].fillna(df['avg'], inplace=True)\n",
    "df = df.drop(['avg'], axis = 1)\n",
    "df = pd.get_dummies(df, columns = ['Sex', 'Embarked','TP','Title'])\n",
    "X = df.loc[:, df.columns != 'Survived']\n",
    "y = df.loc[:, 'Survived']"
   ]
  },
  {
   "cell_type": "code",
   "execution_count": 3,
   "metadata": {},
   "outputs": [],
   "source": [
    "#SPLITTING THE DATASET INTO THE TRAINING SET AND THE TEST SET\n",
    "from sklearn.model_selection import train_test_split\n",
    "X_train, X_test, y_train, y_test = train_test_split(X, y, test_size = 0.25, random_state = 0)"
   ]
  },
  {
   "cell_type": "code",
   "execution_count": 4,
   "metadata": {},
   "outputs": [],
   "source": [
    "#FEATURE SCALLING\n",
    "from sklearn.preprocessing import StandardScaler\n",
    "sc = StandardScaler()\n",
    "X_train = sc.fit_transform(X_train)\n",
    "X_test = sc.transform(X_test)"
   ]
  },
  {
   "cell_type": "code",
   "execution_count": 5,
   "metadata": {},
   "outputs": [
    {
     "data": {
      "text/plain": [
       "SVC(gamma='auto')"
      ]
     },
     "execution_count": 5,
     "metadata": {},
     "output_type": "execute_result"
    }
   ],
   "source": [
    "#TRAINING THE SVM MODEL\n",
    "from sklearn.svm import SVC\n",
    "classifier = SVC(gamma='auto')\n",
    "classifier.fit(X_train, y_train)"
   ]
  },
  {
   "cell_type": "code",
   "execution_count": 6,
   "metadata": {},
   "outputs": [
    {
     "name": "stdout",
     "output_type": "stream",
     "text": [
      "[[127  12]\n",
      " [ 24  60]]\n",
      "0.8385650224215246\n"
     ]
    }
   ],
   "source": [
    "#MAKING THE CONFUSION MATRIX\n",
    "y_pred = classifier.predict(X_test)\n",
    "from sklearn.metrics import confusion_matrix, accuracy_score\n",
    "cm = confusion_matrix(y_test, y_pred)\n",
    "print(cm)\n",
    "acs = accuracy_score(y_test, y_pred)\n",
    "print(acs)"
   ]
  },
  {
   "cell_type": "code",
   "execution_count": 7,
   "metadata": {},
   "outputs": [
    {
     "name": "stdout",
     "output_type": "stream",
     "text": [
      "Accuracy: 82.64 %\n",
      "Standard Deviation: 3.87 %\n"
     ]
    }
   ],
   "source": [
    "#APLLYING K-FOLD CROSS VALIDATION\n",
    "from sklearn.model_selection import cross_val_score\n",
    "accuracies = cross_val_score(estimator = classifier, X = X_train, y = y_train, cv = 10, scoring = 'accuracy')\n",
    "print(\"Accuracy: {:.2f} %\".format(accuracies.mean()*100))\n",
    "print(\"Standard Deviation: {:.2f} %\".format(accuracies.std()*100))"
   ]
  },
  {
   "cell_type": "code",
   "execution_count": null,
   "metadata": {},
   "outputs": [],
   "source": []
  }
 ],
 "metadata": {
  "kernelspec": {
   "display_name": "Python 3",
   "language": "python",
   "name": "python3"
  },
  "language_info": {
   "codemirror_mode": {
    "name": "ipython",
    "version": 3
   },
   "file_extension": ".py",
   "mimetype": "text/x-python",
   "name": "python",
   "nbconvert_exporter": "python",
   "pygments_lexer": "ipython3",
   "version": "3.8.3"
  }
 },
 "nbformat": 4,
 "nbformat_minor": 4
}
